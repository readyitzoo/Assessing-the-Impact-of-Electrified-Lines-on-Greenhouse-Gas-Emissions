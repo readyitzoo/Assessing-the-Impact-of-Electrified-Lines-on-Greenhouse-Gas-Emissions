{
 "cells": [
  {
   "cell_type": "code",
   "execution_count": 26,
   "id": "e4e5c2cd",
   "metadata": {
    "scrolled": true
   },
   "outputs": [],
   "source": [
    "import pandas as pd\n",
    "import numpy as np\n",
    "from sklearn.linear_model import LinearRegression\n",
    "from scipy import stats\n",
    "\n",
    "def statistici(file_path, sheet1_name, sheet2_name):\n",
    "   # Citirea tabelului de emisii\n",
    "    df_emissions = pd.read_excel(file_path, sheet_name=sheet1_name, index_col=0)\n",
    "    df_emissions.index = df_emissions.index.str.strip()  # Eliminarea spațiilor suplimentare din numele țării\n",
    "\n",
    "    # Citirea tabelului de cheltuieli\n",
    "    df_expenditure = pd.read_excel(file_path, sheet_name=sheet2_name, index_col=0)\n",
    "    df_expenditure.index = df_expenditure.index.str.strip()  # Eliminarea spațiilor suplimentare din numele țării\n",
    "\n",
    "\n",
    "    # Înlocuim valorile \":\" cu numpy.nan în tabelul de cheltuieli\n",
    "    df_expenditure.replace(\":\", np.nan, inplace=True)\n",
    "    df_emissions.replace(\":\", np.nan, inplace=True)\n",
    "    \n",
    "\n",
    "    # Gestionăm valorile lipsă în tabelul de cheltuieli, înlocuind NaN cu cea mai apropiată valoare din coloana respectivă (backward fill)\n",
    "    df_expenditure = df_expenditure.fillna(method='bfill')\n",
    "    df_emissions = df_emissions.fillna(method='bfill')\n",
    "    \n",
    "\n",
    "    # Conversia valorilor în float, astfel încât să putem calcula corelația\n",
    "    df_expenditure = df_expenditure.astype(float)\n",
    "    df_emissions = df_emissions.astype(float)\n",
    "    \n",
    "\n",
    "    # Identificăm corelațiile semnificative și coeficienții de determinare pentru fiecare țară\n",
    "    significant_correlations = {}\n",
    "\n",
    "    for country in df_emissions.index:\n",
    "        X = df_expenditure.loc[country].values\n",
    "        y = df_emissions.loc[country].values\n",
    "        # Verificăm dacă cele două variabile sunt constante (toate valorile sunt aceleași)\n",
    "        if np.all(X == X[0]) or np.all(y == y[0]):\n",
    "            r_squared = 0  # Setăm coeficientul de determinare la 0 în acest caz\n",
    "            p_value = 1    # Setăm p-value la 1 (nu este semnificativ)\n",
    "        else:\n",
    "            model = LinearRegression()\n",
    "            model.fit(X.reshape(-1, 1), y)\n",
    "            r_squared = model.score(X.reshape(-1, 1), y)\n",
    "            _, p_value = stats.pearsonr(X, y)\n",
    "\n",
    "        significant_correlations[country] = {\"r_squared\": r_squared, \"p_value\": p_value}\n",
    "\n",
    "\n",
    "    # Sortăm țările în funcție de coeficientul de determinare (R^2) în ordine descrescătoare\n",
    "    sorted_countries = sorted(significant_correlations.items(), key=lambda x: x[1]['p_value'])\n",
    "\n",
    "    # Identificăm primele trei țări cu cele mai mari coeficienți de determinare și p-valori mici\n",
    "    top_3_countries = []\n",
    "    for country, values in sorted_countries:\n",
    "        if values['r_squared'] > 0.4 and values['p_value'] < 0.05:\n",
    "            top_3_countries.append((country, values))\n",
    "            if len(top_3_countries) == 3:\n",
    "                break\n",
    "\n",
    "    # Identificăm ultimele trei țări cu cele mai mici coeficienți de determinare și p-valori mari\n",
    "    bottom_3_countries = []\n",
    "    for country, values in reversed(sorted_countries):\n",
    "        bottom_3_countries.append((country, values))\n",
    "        if len(bottom_3_countries) == 3:\n",
    "            break\n",
    "\n",
    "    # Identificăm poziția României în clasament\n",
    "    rank_of_romania = next((i + 1 for i, (country, _) in enumerate(sorted_countries) if country == 'Romania'), None)\n",
    "\n",
    "    # Calculam numarul de tari pentru a afisa clasamentul\n",
    "    num_of_countries = df_emissions.shape[0]\n",
    "\n",
    "    print(\"Primele trei țări cu cele mai mari coeficienți de determinare și corelatie mare:\")\n",
    "    for i, (country, values) in enumerate(top_3_countries):\n",
    "        print(f\"{i + 1}. {country}: Corelatie: {1 - values['p_value']:.4f}, Coeficient de determinare (R^2): {values['r_squared']:.2f}\")\n",
    "\n",
    "    print(\"\\nUltimele trei țări cu cele mai mici coeficienți de determinare și corelatie mica:\")\n",
    "    for i, (country, values) in enumerate(reversed(bottom_3_countries)):\n",
    "        print(f\"{num_of_countries - 2 + i}. {country}: Corelatie: {1 - values['p_value']:.4f}, Coeficient de determinare (R^2): {values['r_squared']:.2f}\")\n",
    "\n",
    "    # Afișăm poziția României în clasament\n",
    "    print(f\"\\nRomânia se află pe poziția {rank_of_romania} în clasament.\")\n"
   ]
  },
  {
   "cell_type": "markdown",
   "id": "8a3f7c4c",
   "metadata": {},
   "source": [
    "### Corelatie Emisii/cheltuieli de protectie a mediului"
   ]
  },
  {
   "cell_type": "code",
   "execution_count": 72,
   "id": "d12d635f",
   "metadata": {
    "collapsed": true
   },
   "outputs": [
    {
     "name": "stdout",
     "output_type": "stream",
     "text": [
      "Primele trei țări cu cele mai mari coeficienți de determinare și corelatie mare:\n",
      "1. Germany : Corelatie: 0.9961, Coeficient de determinare (R^2): 0.78\n",
      "2. Czechia: Corelatie: 0.9694, Coeficient de determinare (R^2): 0.57\n",
      "3. Denmark: Corelatie: 0.9624, Coeficient de determinare (R^2): 0.54\n",
      "\n",
      "Ultimele trei țări cu cele mai mici coeficienți de determinare și corelatie mica:\n",
      "26. Cyprus: Corelatie: 0.0992, Coeficient de determinare (R^2): 0.00\n",
      "27. Luxembourg: Corelatie: 0.0513, Coeficient de determinare (R^2): 0.00\n",
      "28. Greece: Corelatie: 0.0021, Coeficient de determinare (R^2): 0.00\n",
      "\n",
      "România se află pe poziția 16 în clasament.\n"
     ]
    }
   ],
   "source": [
    "# Încarcăm fișierul Excel\n",
    "file_path = r'C:\\Users\\Ricardo Milos\\Documents\\practica\\Date 2012-2019.xlsx'  # Schimbă calea cu locația reală a fișierului\n",
    "sheet1_name = 'Net greenhouse gas emissions 19'\n",
    "sheet2_name = 'National expenditure on environ'\n",
    "\n",
    "statistici (file_path, sheet1_name, sheet2_name)"
   ]
  },
  {
   "cell_type": "markdown",
   "id": "48de04fc",
   "metadata": {},
   "source": [
    "### Corelatie Emisii/PIB"
   ]
  },
  {
   "cell_type": "code",
   "execution_count": 73,
   "id": "f08ab21b",
   "metadata": {
    "collapsed": true
   },
   "outputs": [
    {
     "name": "stdout",
     "output_type": "stream",
     "text": [
      "Primele trei țări cu cele mai mari coeficienți de determinare și corelatie mare:\n",
      "1. Lithuania: Corelatie: 0.9994, Coeficient de determinare (R^2): 0.88\n",
      "2. Czechia: Corelatie: 0.9959, Coeficient de determinare (R^2): 0.77\n",
      "3. Hungary: Corelatie: 0.9952, Coeficient de determinare (R^2): 0.76\n",
      "\n",
      "Ultimele trei țări cu cele mai mici coeficienți de determinare și corelatie mica:\n",
      "26. Latvia: Corelatie: 0.1771, Coeficient de determinare (R^2): 0.01\n",
      "27. Luxembourg: Corelatie: 0.1757, Coeficient de determinare (R^2): 0.01\n",
      "28. Bulgaria: Corelatie: 0.0399, Coeficient de determinare (R^2): 0.00\n",
      "\n",
      "România se află pe poziția 25 în clasament.\n"
     ]
    }
   ],
   "source": [
    "# Încarcăm fișierul Excel\n",
    "file_path = r'C:\\Users\\Ricardo Milos\\Documents\\practica\\Date 2012-2019.xlsx'  # Schimbă calea cu locația reală a fișierului\n",
    "sheet1_name = 'Net greenhouse gas emissions 19'\n",
    "sheet2_name = 'GDP million euros'\n",
    "\n",
    "statistici (file_path, sheet1_name, sheet2_name)"
   ]
  },
  {
   "cell_type": "code",
   "execution_count": 27,
   "id": "724495cd",
   "metadata": {
    "scrolled": false
   },
   "outputs": [
    {
     "name": "stdout",
     "output_type": "stream",
     "text": [
      "Primele trei țări cu cele mai mari coeficienți de determinare și corelatie mare:\n",
      "1. Poland: Corelatie: 0.9993, Coeficient de determinare (R^2): 0.87\n",
      "2. Czechia: Corelatie: 0.9989, Coeficient de determinare (R^2): 0.85\n",
      "3. Belgium: Corelatie: 0.9563, Coeficient de determinare (R^2): 0.52\n",
      "\n",
      "Ultimele trei țări cu cele mai mici coeficienți de determinare și corelatie mica:\n",
      "23. Lithuania: Corelatie: 0.0000, Coeficient de determinare (R^2): 0.00\n",
      "24. Luxembourg: Corelatie: 0.0000, Coeficient de determinare (R^2): 0.00\n",
      "25. Slovenia: Corelatie: 0.0000, Coeficient de determinare (R^2): 0.00\n",
      "\n",
      "România se află pe poziția 20 în clasament.\n"
     ]
    }
   ],
   "source": [
    "# Încarcăm fișierul Excel\n",
    "file_path = r'C:\\Users\\Ricardo Milos\\Documents\\practica\\Toate periate.xlsx'  # Schimbă calea cu locația reală a fișierului\n",
    "sheet1_name = 'electric locomotives'\n",
    "sheet2_name = 'Net greenhouse gas emissions 19'\n",
    "\n",
    "\n",
    "statistici (file_path, sheet1_name, sheet2_name)"
   ]
  },
  {
   "cell_type": "code",
   "execution_count": null,
   "id": "2ecfa7ea",
   "metadata": {},
   "outputs": [],
   "source": []
  },
  {
   "cell_type": "code",
   "execution_count": null,
   "id": "c2789412",
   "metadata": {},
   "outputs": [],
   "source": []
  }
 ],
 "metadata": {
  "kernelspec": {
   "display_name": "Python 3 (ipykernel)",
   "language": "python",
   "name": "python3"
  },
  "language_info": {
   "codemirror_mode": {
    "name": "ipython",
    "version": 3
   },
   "file_extension": ".py",
   "mimetype": "text/x-python",
   "name": "python",
   "nbconvert_exporter": "python",
   "pygments_lexer": "ipython3",
   "version": "3.11.3"
  }
 },
 "nbformat": 4,
 "nbformat_minor": 5
}
